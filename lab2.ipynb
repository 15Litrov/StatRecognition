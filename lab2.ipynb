{
 "cells": [
  {
   "cell_type": "code",
   "execution_count": 99,
   "metadata": {},
   "outputs": [],
   "source": [
    "import numpy as np\n",
    "from scipy.optimize import minimize\n",
    "import matplotlib.pyplot as plt"
   ]
  },
  {
   "cell_type": "code",
   "execution_count": 100,
   "metadata": {},
   "outputs": [],
   "source": [
    "n = 75\n",
    "component_1 = np.random.exponential(1, n);\n",
    "component_2 = np.random.exponential(1, n);\n",
    "component_3 = np.random.normal(0, 1, n);\n",
    "\n",
    "X = [np.array([component_1[i], component_2[i], component_3[i]]) for i in range(n)]\n",
    "X[1] = np.array([0, 0, 0])"
   ]
  },
  {
   "cell_type": "code",
   "execution_count": 101,
   "metadata": {},
   "outputs": [],
   "source": [
    "def kozinec_find_xt(X, alpha):\n",
    "    xt = None\n",
    "    for xj in X:\n",
    "        # zero vector xj leads to infinite loop \n",
    "        if np.dot(alpha, xj) <= 0 and np.dot(xj, xj) > 0:\n",
    "            xt = xj\n",
    "            break\n",
    "\n",
    "    return xt\n",
    "\n",
    "def kozinec_objective(alpha, xt, k):\n",
    "    v = (1 - k) * alpha + k * xt\n",
    "    # search for k\n",
    "    # sqrt is monothone, so can be skipped\n",
    "    return np.dot(v, v)\n",
    "\n",
    "def kozinec(X):\n",
    "    alpha = X[0]\n",
    "    counter = 1\n",
    "    while True:\n",
    "        xt = kozinec_find_xt(X, alpha)\n",
    "\n",
    "        if xt is None:\n",
    "            return alpha\n",
    "        \n",
    "        k = minimize(lambda k: kozinec_objective(alpha, xt, k), 0.5, bounds=[[0, 1]])\n",
    "        k = k['x'][0]\n",
    "        alpha_next = (1 - k) * alpha + k * xt\n",
    "\n",
    "        print(f\"Iteration {counter}: k = {k} alpha_t = {alpha} alpha_t+1 = {alpha_next}\")\n",
    "        \n",
    "        alpha = alpha_next\n",
    "        counter += 1"
   ]
  },
  {
   "cell_type": "code",
   "execution_count": 102,
   "metadata": {},
   "outputs": [
    {
     "name": "stdout",
     "output_type": "stream",
     "text": [
      "Iteration 1: k = 0.5578465829302293 alpha_t = [ 1.90691583  1.81963189 -0.32795432] alpha_t+1 = [0.9605525  0.83346551 1.16186439]\n",
      "Iteration 2: k = 0.5985585999026779 alpha_t = [0.9605525  0.83346551 1.16186439] alpha_t+1 = [ 0.85031284  0.54893647 -0.18549377]\n",
      "Iteration 3: k = 0.18244408079287555 alpha_t = [ 0.85031284  0.54893647 -0.18549377] alpha_t+1 = [0.73357507 0.45824099 0.2757613 ]\n",
      "Iteration 4: k = 0.39435693488434403 alpha_t = [0.73357507 0.45824099 0.2757613 ] alpha_t+1 = [ 0.47286695  0.45319956 -0.24235099]\n",
      "Iteration 5: k = 0.13489794931657287 alpha_t = [ 0.47286695  0.45319956 -0.24235099] alpha_t+1 = [0.43746849 0.39905463 0.10636789]\n",
      "Alpha: [0.43746849 0.39905463 0.10636789]\n"
     ]
    }
   ],
   "source": [
    "a = kozinec(X)\n",
    "print(f\"Alpha: {a}\")"
   ]
  }
 ],
 "metadata": {
  "kernelspec": {
   "display_name": "swiftt",
   "language": "python",
   "name": "python3"
  },
  "language_info": {
   "codemirror_mode": {
    "name": "ipython",
    "version": 3
   },
   "file_extension": ".py",
   "mimetype": "text/x-python",
   "name": "python",
   "nbconvert_exporter": "python",
   "pygments_lexer": "ipython3",
   "version": "3.11.3"
  }
 },
 "nbformat": 4,
 "nbformat_minor": 2
}
