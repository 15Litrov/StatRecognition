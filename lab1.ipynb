{
 "cells": [
  {
   "cell_type": "code",
   "execution_count": 44,
   "metadata": {},
   "outputs": [],
   "source": [
    "import math"
   ]
  },
  {
   "cell_type": "markdown",
   "metadata": {},
   "source": [
    "$$ K = \\{ 0, 1 \\} ^n $$\n",
    "$$ D = \\{ 0, \\dots, n \\} $$\n",
    "\n",
    "$$ W(q, \\overrightarrow{k}) = (q - \\sum_{i=1}^{n} \\overrightarrow{k}_i) = W(q, d) = (q - d)^2 \\text{, where } \\overrightarrow{k} \\in K, q \\in D, d = \\sum_{i=1}^{n} \\overrightarrow{k}_i $$\n",
    "\n",
    "\n",
    "$$ p(x, \\overrightarrow{k}) = \\frac{1}{2^n} \\cdot \\frac{1}{2^n} = const $$\n",
    "\n",
    "$$ \\sum_{\\overrightarrow{k} \\in K}  p(x, \\overrightarrow{k}) \\cdot W(q, \\overrightarrow{k}) \\rightarrow \\min_q $$\n",
    "\n",
    "$$ \\text{Cause } p(x, \\overrightarrow{k}) = const \\text{ we can remove it to get: } \\sum_{\\overrightarrow{k} \\in K} W(q, \\overrightarrow{k}) \\rightarrow \\min_q $$\n",
    "$$ \\text{Cause we get same value of } W(q, \\overrightarrow{k}) \\text{ for each value of } \\overrightarrow{k} \\in K \\text{ what have the same sum } \\sum_{i=1}^n \\overrightarrow{k}_i \\text { we can rewrite it as: } $$\n",
    "$$ \\sum_{d \\in D} C_n^d \\cdot W(q, d) \\rightarrow \\min_q \\text{, which require } n+1 \\text{ iterations of summing instead of } 2^n $$"
   ]
  },
  {
   "cell_type": "code",
   "execution_count": 45,
   "metadata": {},
   "outputs": [],
   "source": [
    "def get_optimal_q(input):\n",
    "    # нас не цікавит вигляд послідовності, а лише її довжина\n",
    "    n = len(input)\n",
    "\n",
    "    # сума елементів послідовності може бути в проміжку від 0 (всі 0) до n (включно, всі 1)\n",
    "    D = range(n + 1) # + 1 для включення в діапазон значення n\n",
    "\n",
    "    # оптимальна оцінка\n",
    "    q_opt = 0\n",
    "    sum_min = None # щоб зробити можлим початкове ініцілювання\n",
    "\n",
    "    # перебір оцінки q - суми значення послідовності\n",
    "    for q in D:\n",
    "\n",
    "        sum = 0\n",
    "        # оскільки ймовірність отримання input з будь якої послідовності - однаковий\n",
    "        # то ітеруємо не по всім послідовностям, а по всім можливим значенням суми\n",
    "        for d in D:\n",
    "            # рахуємо кількість послідовностей дожини n, що мають суму елементів рівну d\n",
    "            count = math.comb(n, d)\n",
    "            w = (q-d)**2 # MSE\n",
    "            sum += count * w\n",
    "\n",
    "        # якщо sum менша за попередню найкращу, то оцінка q є кращою\n",
    "        if sum_min is None or sum < sum_min:\n",
    "            sum_min = sum\n",
    "            q_opt = q\n",
    "\n",
    "    return  q_opt\n"
   ]
  },
  {
   "cell_type": "code",
   "execution_count": 46,
   "metadata": {},
   "outputs": [
    {
     "name": "stdout",
     "output_type": "stream",
     "text": [
      "q = 3\n"
     ]
    }
   ],
   "source": [
    "print(f\"q = {get_optimal_q([0]*7)}\")"
   ]
  },
  {
   "cell_type": "code",
   "execution_count": 47,
   "metadata": {},
   "outputs": [
    {
     "name": "stdout",
     "output_type": "stream",
     "text": [
      "q = 16\n"
     ]
    }
   ],
   "source": [
    "print(f\"q = {get_optimal_q([0]*32)}\")"
   ]
  },
  {
   "cell_type": "code",
   "execution_count": 48,
   "metadata": {},
   "outputs": [
    {
     "name": "stdout",
     "output_type": "stream",
     "text": [
      "q = 256\n"
     ]
    }
   ],
   "source": [
    "print(f\"q = {get_optimal_q([0]*513)}\")"
   ]
  }
 ],
 "metadata": {
  "kernelspec": {
   "display_name": "swiftt",
   "language": "python",
   "name": "python3"
  },
  "language_info": {
   "codemirror_mode": {
    "name": "ipython",
    "version": 3
   },
   "file_extension": ".py",
   "mimetype": "text/x-python",
   "name": "python",
   "nbconvert_exporter": "python",
   "pygments_lexer": "ipython3",
   "version": "3.11.3"
  }
 },
 "nbformat": 4,
 "nbformat_minor": 2
}
